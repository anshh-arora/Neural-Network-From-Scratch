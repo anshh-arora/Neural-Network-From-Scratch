{
 "cells": [
  {
   "cell_type": "code",
   "execution_count": 75,
   "id": "6a8bedb1-ec0d-414f-b200-3b1b03740433",
   "metadata": {},
   "outputs": [],
   "source": [
    "import numpy as np\n",
    "\n",
    "np.random.seed(0)\n",
    "# Prepare the dataset\n",
    "X = np.array([[0, 0, 1, 1], [0, 1, 0, 1]])  \n",
    "y = np.array([[0, 1, 1, 0]]) "
   ]
  },
  {
   "cell_type": "code",
   "execution_count": 76,
   "id": "a2289ab9-48b9-4f2e-ab39-84d47f406c1b",
   "metadata": {},
   "outputs": [],
   "source": [
    "# Initialize parameters\n",
    "def initialize_parameters(input_size, hidden_layer_size, output_size):\n",
    "    W1 = np.random.randn(hidden_layer_size, input_size) * 0.01\n",
    "    b1 = np.zeros((hidden_layer_size, 1))\n",
    "    W2 = np.random.randn(output_size, hidden_layer_size) * 0.01\n",
    "    b2 = np.zeros((output_size, 1))\n",
    "    return W1, b1, W2, b2\n",
    "\n"
   ]
  },
  {
   "cell_type": "code",
   "execution_count": 77,
   "id": "eb6e2dcc-4281-4a2f-96be-cfb595139058",
   "metadata": {},
   "outputs": [],
   "source": [
    "# Define the sigmoid function and its derivative\n",
    "def sigmoid(z):\n",
    "    return 1 / (1 + np.exp(-z))\n",
    "\n",
    "def sigmoid_derivative(z):\n",
    "    return z * (1 - z)\n"
   ]
  },
  {
   "cell_type": "code",
   "execution_count": 78,
   "id": "fd3bf978-54e7-4a45-a7c9-f02bd472c771",
   "metadata": {},
   "outputs": [],
   "source": [
    "# Forward propagation\n",
    "def forward_propagation(X, W1, b1, W2, b2):\n",
    "    Z1 = np.dot(W1, X) + b1\n",
    "    A1 = sigmoid(Z1)\n",
    "    Z2 = np.dot(W2, A1) + b2\n",
    "    A2 = sigmoid(Z2)\n",
    "    return Z1, A1, Z2, A2\n"
   ]
  },
  {
   "cell_type": "code",
   "execution_count": 79,
   "id": "2492c431-fbab-4fc0-8517-186270297c65",
   "metadata": {},
   "outputs": [],
   "source": [
    "# Compute the loss\n",
    "def compute_loss(A2, Y):\n",
    "    m = Y.shape[1]\n",
    "    loss = -np.sum(Y * np.log(A2) + (1 - Y) * np.log(1 - A2)) / m\n",
    "    return loss\n",
    "\n"
   ]
  },
  {
   "cell_type": "code",
   "execution_count": 80,
   "id": "4a1d1eaa-3a49-4523-8a7a-999e2031cd99",
   "metadata": {},
   "outputs": [],
   "source": [
    "# Backward propagation\n",
    "def backward_propagation(X, Y, W1, b1, W2, b2, Z1, A1, Z2, A2):\n",
    "    m = X.shape[1]\n",
    "    \n",
    "    dZ2 = A2 - Y\n",
    "    dW2 = np.dot(dZ2, A1.T) / m\n",
    "    db2 = np.sum(dZ2, axis=1, keepdims=True) / m\n",
    "    \n",
    "    dA1 = np.dot(W2.T, dZ2)\n",
    "    dZ1 = dA1 * sigmoid_derivative(A1)\n",
    "    dW1 = np.dot(dZ1, X.T) / m\n",
    "    db1 = np.sum(dZ1, axis=1, keepdims=True) / m\n",
    "    \n",
    "    return dW1, db1, dW2, db2\n",
    "\n"
   ]
  },
  {
   "cell_type": "code",
   "execution_count": 81,
   "id": "1d417fc0-dc20-4818-8f09-88c8bbed9c56",
   "metadata": {},
   "outputs": [],
   "source": [
    "# Update parameters\n",
    "def update_parameters(W1, b1, W2, b2, dW1, db1, dW2, db2, learning_rate):\n",
    "    W1 -= learning_rate * dW1\n",
    "    b1 -= learning_rate * db1\n",
    "    W2 -= learning_rate * dW2\n",
    "    b2 -= learning_rate * db2\n",
    "    return W1, b1, W2, b2\n",
    "\n"
   ]
  },
  {
   "cell_type": "code",
   "execution_count": 82,
   "id": "a35e6dfb-bb08-4745-8ae5-f7d8f98e16ba",
   "metadata": {},
   "outputs": [],
   "source": [
    "# Train the neural network\n",
    "def train(X, Y, hidden_layer_size, num_iterations, learning_rate):\n",
    "    input_size = X.shape[0]\n",
    "    output_size = Y.shape[0]\n",
    "    \n",
    "    W1, b1, W2, b2 = initialize_parameters(input_size, hidden_layer_size, output_size)\n",
    "    \n",
    "    for i in range(num_iterations):\n",
    "        Z1, A1, Z2, A2 = forward_propagation(X, W1, b1, W2, b2)\n",
    "        loss = compute_loss(A2, Y)\n",
    "        dW1, db1, dW2, db2 = backward_propagation(X, Y, W1, b1, W2, b2, Z1, A1, Z2, A2)\n",
    "        W1, b1, W2, b2 = update_parameters(W1, b1, W2, b2, dW1, db1, dW2, db2, learning_rate)\n",
    "        \n",
    "        if i % 1000 == 0:\n",
    "            print(f\"Iteration {i}: Loss = {loss}\")\n",
    "    \n",
    "    return W1, b1, W2, b2\n",
    "\n"
   ]
  },
  {
   "cell_type": "code",
   "execution_count": 83,
   "id": "cefb40f8-c133-4170-9fe6-c162fdb309d0",
   "metadata": {},
   "outputs": [],
   "source": [
    "# Predict\n",
    "def predict(X, W1, b1, W2, b2):\n",
    "    _, _, _, A2 = forward_propagation(X, W1, b1, W2, b2)\n",
    "    predictions = A2 > 0.5\n",
    "    return predictions\n",
    "\n"
   ]
  },
  {
   "cell_type": "code",
   "execution_count": 136,
   "id": "b41ce5b7-4694-4ecd-bc9e-d4d64e507bb7",
   "metadata": {},
   "outputs": [
    {
     "name": "stdout",
     "output_type": "stream",
     "text": [
      "Iteration 0: Loss = 0.6931620946898881\n",
      "Iteration 1000: Loss = 0.6931471812858864\n",
      "Iteration 2000: Loss = 0.6931471806183037\n",
      "Iteration 3000: Loss = 0.6931471806182581\n",
      "Iteration 4000: Loss = 0.6931471806182424\n",
      "Iteration 5000: Loss = 0.6931471806182267\n",
      "Iteration 6000: Loss = 0.6931471806182111\n",
      "Iteration 7000: Loss = 0.6931471806181955\n",
      "Iteration 8000: Loss = 0.6931471806181797\n",
      "Iteration 9000: Loss = 0.693147180618164\n"
     ]
    }
   ],
   "source": [
    "# Train the neural network\n",
    "W1, b1, W2, b2 = train(X, y, hidden_layer_size=4, num_iterations=10000, learning_rate=0.01)\n",
    "\n"
   ]
  },
  {
   "cell_type": "code",
   "execution_count": 137,
   "id": "45af3f55-93c2-409a-ad88-cc801e6f092b",
   "metadata": {},
   "outputs": [
    {
     "name": "stdout",
     "output_type": "stream",
     "text": [
      "Predictions: [[ True  True False False]]\n"
     ]
    }
   ],
   "source": [
    "# Make predictions\n",
    "predictions = predict(X, W1, b1, W2, b2)\n",
    "print(\"Predictions:\", predictions)\n"
   ]
  },
  {
   "cell_type": "code",
   "execution_count": null,
   "id": "390f1ea1-6c1d-4246-983d-51dc080e6719",
   "metadata": {},
   "outputs": [],
   "source": []
  },
  {
   "cell_type": "code",
   "execution_count": null,
   "id": "4c2a3b7e-831e-4b0f-bf00-11b2c6f75886",
   "metadata": {},
   "outputs": [],
   "source": []
  }
 ],
 "metadata": {
  "kernelspec": {
   "display_name": "Python 3 (ipykernel)",
   "language": "python",
   "name": "python3"
  },
  "language_info": {
   "codemirror_mode": {
    "name": "ipython",
    "version": 3
   },
   "file_extension": ".py",
   "mimetype": "text/x-python",
   "name": "python",
   "nbconvert_exporter": "python",
   "pygments_lexer": "ipython3",
   "version": "3.12.3"
  }
 },
 "nbformat": 4,
 "nbformat_minor": 5
}
